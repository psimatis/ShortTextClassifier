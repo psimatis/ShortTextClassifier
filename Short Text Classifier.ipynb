{
 "cells": [
  {
   "cell_type": "markdown",
   "id": "f0814083",
   "metadata": {},
   "source": [
    "# Small Text Classifier"
   ]
  },
  {
   "cell_type": "markdown",
   "id": "d2520500",
   "metadata": {},
   "source": [
    "ML model that classifies short text (e.g., tweets, news headlines)\n",
    "\n",
    "Input: Training data in tabular form (e.g., Excel file) with two columns: Text, Tag \n",
    "Output: A Dataframe with the texts and their classes\n",
    "\n",
    "Notes: Count Vectorizer achieves greater accuracy than TF-IDF."
   ]
  },
  {
   "cell_type": "code",
   "execution_count": null,
   "id": "58556134",
   "metadata": {},
   "outputs": [],
   "source": [
    "import datetime\n",
    "import numpy as np\n",
    "import pandas as pd\n",
    "import scipy\n",
    "import matplotlib.pyplot as plt\n",
    "\n",
    "from sklearn.model_selection import train_test_split\n",
    "from sklearn.feature_extraction.text import CountVectorizer\n",
    "from sklearn.preprocessing import LabelEncoder\n",
    "\n",
    "import torch\n",
    "from torch import nn\n",
    "from torch import optim\n",
    "\n",
    "%matplotlib inline\n",
    "%config InlineBackend.figure_format = 'retina'\n",
    "torch.__version__"
   ]
  },
  {
   "cell_type": "markdown",
   "id": "c3e327ca",
   "metadata": {},
   "source": [
    "# Parameters\n",
    "\n",
    "Pick the tags for classification (e.g., economy, lifestyle, war). "
   ]
  },
  {
   "cell_type": "code",
   "execution_count": null,
   "id": "aa66a0e0",
   "metadata": {},
   "outputs": [],
   "source": [
    "tags = ['write your tags here']\n",
    "tagIds = {0:'id your tags to beautify printing'}"
   ]
  },
  {
   "cell_type": "markdown",
   "id": "49c925aa",
   "metadata": {},
   "source": [
    "# Read training data"
   ]
  },
  {
   "cell_type": "code",
   "execution_count": null,
   "id": "ba0b3442",
   "metadata": {},
   "outputs": [],
   "source": [
    "df = pd.read_excel(r'....xlsx', usecols = ['Text', 'Tag'])\n",
    "df = df.dropna().drop_duplicates()\n",
    "df"
   ]
  },
  {
   "cell_type": "markdown",
   "id": "9cb326d1",
   "metadata": {},
   "source": [
    "# Encode tags"
   ]
  },
  {
   "cell_type": "code",
   "execution_count": null,
   "id": "b01280ef",
   "metadata": {},
   "outputs": [],
   "source": [
    "le = LabelEncoder().fit(df['Tag'])\n",
    "df['EncodedTag'] = le.transform(df['Tag'])\n",
    "df"
   ]
  },
  {
   "cell_type": "markdown",
   "id": "a7d40d86",
   "metadata": {},
   "source": [
    "# Training Data Statistics"
   ]
  },
  {
   "cell_type": "code",
   "execution_count": null,
   "id": "8e08d2ea",
   "metadata": {},
   "outputs": [],
   "source": [
    "counts = {}\n",
    "for index, row in df.iterrows():\n",
    "    if row['Tag'] not in counts:\n",
    "        counts[row['Tag']] = 0\n",
    "    counts[row['Tag']] += 1\n",
    "\n",
    "print('Data set size:', sum(counts.values()))\n",
    "    \n",
    "fig1, ax1 = plt.subplots()\n",
    "ax1.pie(counts.values(), labels = counts.keys(), autopct='%1.1f%%')\n",
    "fig1.set_size_inches(6, 6)\n",
    "plt.show()"
   ]
  },
  {
   "cell_type": "markdown",
   "id": "f1705669",
   "metadata": {},
   "source": [
    "# Split data for training"
   ]
  },
  {
   "cell_type": "code",
   "execution_count": null,
   "id": "1163cf5a",
   "metadata": {},
   "outputs": [],
   "source": [
    "x_train, x_test, y_train, y_test = train_test_split(df['Headline'], df['EncodedTag'], test_size=.2)\n",
    "print(x_train.shape, x_test.shape, y_train.shape, y_test.shape)"
   ]
  },
  {
   "cell_type": "markdown",
   "id": "fc5a6270",
   "metadata": {},
   "source": [
    "# Vectorize training data"
   ]
  },
  {
   "cell_type": "code",
   "execution_count": null,
   "id": "69341b28",
   "metadata": {},
   "outputs": [],
   "source": [
    "vectorizer = CountVectorizer()\n",
    "x_train = vectorizer.fit_transform(x_train)\n",
    "x_test = vectorizer.transform(x_test) \n",
    "\n",
    "x_train = torch.tensor(scipy.sparse.csr_matrix.todense(x_train)).float()\n",
    "x_test = torch.tensor(scipy.sparse.csr_matrix.todense(x_test)).float()\n",
    "\n",
    "y_train = torch.tensor(y_train.values)\n",
    "y_test = torch.tensor(y_test.values)"
   ]
  },
  {
   "cell_type": "markdown",
   "id": "6dceb71a",
   "metadata": {},
   "source": [
    "# Define the neural network"
   ]
  },
  {
   "cell_type": "code",
   "execution_count": null,
   "id": "76b030ad",
   "metadata": {},
   "outputs": [],
   "source": [
    "neurons = 64\n",
    "\n",
    "model = nn.Sequential(nn.Linear(x_train.shape[1], neurons),\n",
    "                      nn.ReLU(),\n",
    "                      #nn.Dropout(0.1),\n",
    "                      nn.Linear(neurons, df['Tag'].nunique()),\n",
    "                      nn.LogSoftmax(dim = 1))\n",
    "\n",
    "\n",
    "criterion = nn.NLLLoss()\n",
    "logps = model(x_train.type(torch.FloatTensor)) \n",
    "loss = criterion(logps, y_train.type(torch.LongTensor)) \n",
    "loss.backward()\n",
    "optimizer = optim.Adam(model.parameters(), lr=0.002) "
   ]
  },
  {
   "cell_type": "markdown",
   "id": "f8cbf7df",
   "metadata": {},
   "source": [
    "# Training"
   ]
  },
  {
   "cell_type": "code",
   "execution_count": null,
   "id": "3a3e8d8d",
   "metadata": {
    "scrolled": false
   },
   "outputs": [],
   "source": [
    "%%time\n",
    "\n",
    "train_losses = []\n",
    "test_losses = []\n",
    "test_accuracies = []\n",
    "\n",
    "epochs = 50\n",
    "for e in range(epochs):\n",
    "    optimizer.zero_grad()\n",
    "\n",
    "    output = model.forward(x_train.type(torch.FloatTensor))\n",
    "    loss = criterion(output, y_train.type(torch.LongTensor))\n",
    "    loss.backward()\n",
    "    train_loss = loss.item()\n",
    "    train_losses.append(train_loss)\n",
    "    \n",
    "    optimizer.step()\n",
    "\n",
    "    with torch.no_grad():\n",
    "        model.eval()\n",
    "        log_ps = model(x_test.type(torch.FloatTensor))\n",
    "        test_loss = criterion(log_ps, y_test.type(torch.LongTensor))\n",
    "        test_losses.append(test_loss)\n",
    "\n",
    "        ps = torch.exp(log_ps)\n",
    "        top_p, top_class = ps.topk(1, dim=1)\n",
    "        equals = top_class == y_test.view(*top_class.shape)\n",
    "        test_accuracy = torch.mean(equals.float())\n",
    "        test_accuracies.append(test_accuracy)\n",
    "\n",
    "    model.train()\n",
    "    print(f\"Epoch: {e+1}/{epochs}.. \", f\"Training Loss: {train_loss:.3f}.. \", f\"Test Loss: {test_loss:.3f}.. \", f\"Test Accuracy: {test_accuracy:.3f}\")\n",
    "\n",
    "plt.figure(figsize=(12, 5))\n",
    "ax = plt.subplot(121)\n",
    "plt.xlabel('Epochs')\n",
    "plt.ylabel('Negative log likelihood loss')\n",
    "plt.plot(train_losses, label='Training loss')\n",
    "plt.plot(test_losses, label='Validation loss')\n",
    "plt.legend(frameon=False);\n",
    "plt.subplot(122)\n",
    "plt.xlabel('Epochs')\n",
    "plt.ylabel('Test accuracy')\n",
    "plt.plot(test_accuracies);"
   ]
  },
  {
   "cell_type": "markdown",
   "id": "3ca6c371",
   "metadata": {},
   "source": [
    "# Test the model with another dataset"
   ]
  },
  {
   "cell_type": "code",
   "execution_count": null,
   "id": "78f95d7b",
   "metadata": {},
   "outputs": [],
   "source": [
    "df = pd.read_excel(r'....xlsx')\n",
    "\n",
    "x = vectorizer.transform([i[0] for i in df.values.tolist()])\n",
    "x = torch.tensor(scipy.sparse.csr_matrix.todense(x)).float()\n",
    "output = model.forward(x.type(torch.FloatTensor))\n",
    "\n",
    "outputTags = []\n",
    "for i, o in enumerate(output):\n",
    "    outputTags.append(tagIds[o.argmax().item()])\n",
    "df ['Tags'] = outputTags\n",
    "df"
   ]
  }
 ],
 "metadata": {
  "kernelspec": {
   "display_name": "Python 3 (ipykernel)",
   "language": "python",
   "name": "python3"
  },
  "language_info": {
   "codemirror_mode": {
    "name": "ipython",
    "version": 3
   },
   "file_extension": ".py",
   "mimetype": "text/x-python",
   "name": "python",
   "nbconvert_exporter": "python",
   "pygments_lexer": "ipython3",
   "version": "3.9.7"
  }
 },
 "nbformat": 4,
 "nbformat_minor": 5
}
